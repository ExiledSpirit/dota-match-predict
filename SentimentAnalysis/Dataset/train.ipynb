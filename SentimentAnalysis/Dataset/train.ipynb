{
 "cells": [
  {
   "cell_type": "code",
   "execution_count": 1,
   "metadata": {},
   "outputs": [],
   "source": [
    "import pandas as pd\n",
    "\n",
    "df = pd.read_json(\"./train.jsonl\", lines=True)\n",
    "df.drop(columns=[\"label_text\"], inplace=True)\n",
    "\n",
    "inoff = df[df[\"label\"] == 0].sample(n = 24000, random_state=100)\n",
    "off = df[df[\"label\"] == 1].sample(n = 24000, random_state=100)\n",
    "\n",
    "inoff.drop(columns=[\"label\"], inplace=True)\n",
    "off.drop(columns=[\"label\"], inplace=True)\n",
    "\n",
    "inoff.to_csv(\"./SetFit toxic_conversations Subset NotToxic_7k.csv\")\n",
    "off.to_csv(\"./SetFit toxic_conversations Subset Toxic_4k.csv\")"
   ]
  },
  {
   "cell_type": "code",
   "execution_count": null,
   "metadata": {},
   "outputs": [],
   "source": []
  }
 ],
 "metadata": {
  "kernelspec": {
   "display_name": ".venv",
   "language": "python",
   "name": "python3"
  },
  "language_info": {
   "codemirror_mode": {
    "name": "ipython",
    "version": 3
   },
   "file_extension": ".py",
   "mimetype": "text/x-python",
   "name": "python",
   "nbconvert_exporter": "python",
   "pygments_lexer": "ipython3",
   "version": "3.12.6"
  }
 },
 "nbformat": 4,
 "nbformat_minor": 2
}
