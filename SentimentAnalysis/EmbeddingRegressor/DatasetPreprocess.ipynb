{
 "cells": [
  {
   "cell_type": "code",
   "execution_count": null,
   "metadata": {},
   "outputs": [],
   "source": [
    "import pandas as pd\n",
    "import gc\n",
    "\n",
    "# source CSV: https://huggingface.co/datasets/SetFit/toxic_conversations , file \"original.csv\"\n",
    "df = pd.read_csv(\"../Dataset/setfit_toxicconversations.csv\")\n",
    "df = df[\n",
    "    [\n",
    "        \"comment_text\",\n",
    "        \"target\",\n",
    "        \"severe_toxicity\",\n",
    "        \"obscene\",\n",
    "        \"identity_attack\",\n",
    "        \"insult\",\n",
    "        \"threat\",\n",
    "        \"sexual_explicit\",\n",
    "    ]\n",
    "]\n",
    "df[\"comment_text\"] = df[\"comment_text\"].map(lambda x: str(x).strip())\n",
    "\n",
    "# df.to_csv(\"./dataset/output_trimmed.csv\", index=False)\n",
    "\n",
    "gc.collect()\n"
   ]
  },
  {
   "cell_type": "code",
   "execution_count": null,
   "metadata": {},
   "outputs": [],
   "source": [
    "# Selecionar 32k itens de cada categoria. Consideramos tóxicos aqueles itens com valor de target >= 0,5.\n",
    "offensive = df[df[\"target\"] >= 0.5].sample(n=32768, random_state=2003)\n",
    "inoffensive = df[df[\"target\"] < 0.5].sample(n=32768, random_state=2003)\n",
    "\n",
    "subset = pd.concat([offensive, inoffensive], ignore_index=True, sort=False)\n",
    "# subset.to_csv(\"./dataset/output_subset_64k.csv\", index=False)\n",
    "\n",
    "df = None\n",
    "offensive = None\n",
    "inoffensive = None\n",
    "gc.collect()"
   ]
  },
  {
   "cell_type": "code",
   "execution_count": null,
   "metadata": {},
   "outputs": [],
   "source": [
    "import torch\n",
    "from sentence_transformers import SentenceTransformer\n",
    "import pandas as pd\n",
    "import pickle\n",
    "import pandas as pd\n",
    "\n",
    "EMBEDDING_DIMENSIONS = 1024\n",
    "model = SentenceTransformer(\n",
    "    \"dunzhang/stella_en_400M_v5\",\n",
    "    cache_folder=\"./models\",\n",
    "    device=\"cpu\",\n",
    "    trust_remote_code=True,\n",
    ")\n",
    "\n",
    "comment_texts = subset[\"comment_text\"].tolist()\n",
    "\n",
    "# Start the multi-process pool on all available CUDA devices\n",
    "pool = model.start_multi_process_pool()\n",
    "\n",
    "# Compute the embeddings using the multi-process pool\n",
    "# Na RTX 3060: 10min, 28s para computar 64k embeddings com o Stella 400M v5\n",
    "# Na CPU: 1h40min\n",
    "embeddings = model.encode_multi_process(comment_texts, pool, show_progress_bar=True)\n",
    "print(\"Embeddings computed. Shape:\", embeddings.shape)\n",
    "\n",
    "# Optional: Stop the processes in the pool\n",
    "model.stop_multi_process_pool(pool)\n",
    "\n",
    "# Salvar embeddings computadas no arquivo\n",
    "with open(\"./embeddings.pickle\", \"wb\") as f:\n",
    "    pickle.dump(embeddings, f)\n",
    "\n",
    "X_df = pd.DataFrame(\n",
    "    data=embeddings, columns=[f\"d{i}\" for i in range(0, EMBEDDING_DIMENSIONS)]\n",
    ")\n",
    "y_df = subset[[\"target\"]]\n",
    "\n",
    "dataset = pd.concat([y_df, X_df], axis=1)\n",
    "dataset.to_parquet(\"./output_embeddings.parquet\", index=False)"
   ]
  }
 ],
 "metadata": {
  "kernelspec": {
   "display_name": ".venv",
   "language": "python",
   "name": "python3"
  },
  "language_info": {
   "codemirror_mode": {
    "name": "ipython",
    "version": 3
   },
   "file_extension": ".py",
   "mimetype": "text/x-python",
   "name": "python",
   "nbconvert_exporter": "python",
   "pygments_lexer": "ipython3",
   "version": "3.12.6"
  }
 },
 "nbformat": 4,
 "nbformat_minor": 2
}
